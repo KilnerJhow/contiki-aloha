{
 "cells": [
  {
   "cell_type": "code",
   "execution_count": 1,
   "metadata": {},
   "outputs": [],
   "source": [
    "import pandas as pd\n",
    "import matplotlib.pyplot as plt\n",
    "import numpy as np\n",
    "import scipy.stats as stats\n",
    "import os"
   ]
  },
  {
   "cell_type": "code",
   "execution_count": 2,
   "metadata": {},
   "outputs": [],
   "source": [
    "path_prefix = os.getcwd() + '/simulation-runs'"
   ]
  },
  {
   "cell_type": "code",
   "execution_count": 13,
   "metadata": {},
   "outputs": [],
   "source": [
    "vcc = 3 # Tensão de alimentaçaõ em V\n",
    "rx_current = 21.8 / 1000 # Consumo de corrente do rádio em rx em Ampére\n",
    "tx_current = 19.5 / 1000 # Consumo de corrente do rádio em tx em Ampére\n",
    "cpu_sleep_current = 5.1/ 1000000 # Consumo de corrente do rádio em sleep (standby) em Ampére\n",
    "cpu_idle_current = 54.5 / 1000000 # Consumo de corrente do rádio em idle em Ampére\n",
    "\n",
    "one_second_in_clock = 32768 # Um segundo em clocks do nó\n",
    "interval_period = 10 # Período de envio de mensagens em segundos"
   ]
  },
  {
   "cell_type": "code",
   "execution_count": 3,
   "metadata": {},
   "outputs": [],
   "source": [
    "def read_csv_in_folder(folder_path):\n",
    "  dfs = []\n",
    "  for filename in os.listdir(folder_path):\n",
    "    # Se o arquivo é um arquivo CSV\n",
    "    if filename.endswith('.csv'):\n",
    "        # Construir o caminho completo para o arquivo\n",
    "        file_path = os.path.join(folder_path, filename)\n",
    "        \n",
    "        # Ler o arquivo CSV e armazenar o DataFrame na lista\n",
    "        df = pd.read_csv(file_path)\n",
    "        dfs.append(df)\n",
    "  return dfs"
   ]
  },
  {
   "cell_type": "code",
   "execution_count": 4,
   "metadata": {},
   "outputs": [],
   "source": [
    "aloha_rdc_duty_cycles = [\"5\", \"10\", \"20\", \"30\", \"40\", \"50\", \"60\"]\n",
    "aloha_rdc_dfs = {}\n",
    "\n",
    "for rdc in aloha_rdc_duty_cycles:\n",
    "  path = path_prefix + \"/\" + rdc + \"-duty-cycle\"\n",
    "  aloha_rdc_dfs[rdc] = read_csv_in_folder(path)"
   ]
  },
  {
   "cell_type": "code",
   "execution_count": 5,
   "metadata": {},
   "outputs": [],
   "source": [
    "csma_dfs = read_csv_in_folder(path_prefix + \"/csma\")\n",
    "aloha_always_on_dfs = read_csv_in_folder(path_prefix + \"/aloha-always-on\")"
   ]
  },
  {
   "cell_type": "code",
   "execution_count": 6,
   "metadata": {},
   "outputs": [],
   "source": [
    "def concat_dfs(dfs):\n",
    "  return pd.concat(dfs, ignore_index=True)"
   ]
  },
  {
   "cell_type": "code",
   "execution_count": 7,
   "metadata": {},
   "outputs": [],
   "source": [
    "# Concat dfs\n",
    "aloha_rdc_dfs_concat = {}\n",
    "for rdc in aloha_rdc_duty_cycles:\n",
    "  aloha_rdc_dfs_concat[rdc] = concat_dfs(aloha_rdc_dfs[rdc])\n",
    "\n",
    "csma_df_concat = pd.concat(csma_dfs, ignore_index=True)\n",
    "aloha_always_on_df_concat = pd.concat(aloha_always_on_dfs, ignore_index=True)"
   ]
  },
  {
   "cell_type": "code",
   "execution_count": 15,
   "metadata": {},
   "outputs": [],
   "source": [
    "# Cálculo do consumo de corrente em Ampére\n",
    "def calculate_current_consumption(df):\n",
    "  return (df['cpu'] * cpu_idle_current + df['transmit'] * tx_current + df['listen'] * rx_current + df['lpm'] * cpu_sleep_current) / (one_second_in_clock * interval_period)"
   ]
  },
  {
   "cell_type": "code",
   "execution_count": 22,
   "metadata": {},
   "outputs": [],
   "source": [
    "#Cálculo de potência de cada linha\n",
    "for rdc in aloha_rdc_duty_cycles:\n",
    "  aloha_rdc_dfs_concat[rdc]['I'] = calculate_current_consumption(aloha_rdc_dfs_concat[rdc])\n",
    "  aloha_rdc_dfs_concat[rdc]['P'] = aloha_rdc_dfs_concat[rdc]['I'] * vcc # Potência em W\n",
    "  aloha_rdc_dfs_concat[rdc]['Eihop'] = aloha_rdc_dfs_concat[rdc]['P'] * interval_period # Energia em J\n",
    "\n",
    "csma_df_concat['I'] = calculate_current_consumption(csma_df_concat)\n",
    "csma_df_concat['P'] = csma_df_concat['I'] * vcc # Potência em W\n",
    "csma_df_concat['Eihop'] = csma_df_concat['P'] * interval_period # Energia em J\n",
    "\n",
    "aloha_always_on_df_concat['I'] = calculate_current_consumption(aloha_always_on_df_concat)\n",
    "aloha_always_on_df_concat['P'] = aloha_always_on_df_concat['I'] * vcc # Potência em W\n",
    "aloha_always_on_df_concat['Eihop'] = aloha_always_on_df_concat['P'] * interval_period # Energia em J"
   ]
  },
  {
   "cell_type": "code",
   "execution_count": 23,
   "metadata": {},
   "outputs": [
    {
     "data": {
      "text/html": [
       "<div>\n",
       "<style scoped>\n",
       "    .dataframe tbody tr th:only-of-type {\n",
       "        vertical-align: middle;\n",
       "    }\n",
       "\n",
       "    .dataframe tbody tr th {\n",
       "        vertical-align: top;\n",
       "    }\n",
       "\n",
       "    .dataframe thead th {\n",
       "        text-align: right;\n",
       "    }\n",
       "</style>\n",
       "<table border=\"1\" class=\"dataframe\">\n",
       "  <thead>\n",
       "    <tr style=\"text-align: right;\">\n",
       "      <th></th>\n",
       "      <th>cpu</th>\n",
       "      <th>lpm</th>\n",
       "      <th>transmit</th>\n",
       "      <th>listen</th>\n",
       "      <th>hops</th>\n",
       "      <th>d</th>\n",
       "      <th>_R</th>\n",
       "      <th>_Nb</th>\n",
       "      <th>P0</th>\n",
       "      <th>I</th>\n",
       "      <th>P</th>\n",
       "      <th>Eihop</th>\n",
       "    </tr>\n",
       "  </thead>\n",
       "  <tbody>\n",
       "    <tr>\n",
       "      <th>0</th>\n",
       "      <td>60713</td>\n",
       "      <td>922264</td>\n",
       "      <td>7812</td>\n",
       "      <td>8642</td>\n",
       "      <td>1</td>\n",
       "      <td>135</td>\n",
       "      <td>250</td>\n",
       "      <td>90</td>\n",
       "      <td>0.001064</td>\n",
       "      <td>0.001064</td>\n",
       "      <td>0.003193</td>\n",
       "      <td>0.031928</td>\n",
       "    </tr>\n",
       "    <tr>\n",
       "      <th>1</th>\n",
       "      <td>65511</td>\n",
       "      <td>917467</td>\n",
       "      <td>9785</td>\n",
       "      <td>8114</td>\n",
       "      <td>2</td>\n",
       "      <td>67</td>\n",
       "      <td>250</td>\n",
       "      <td>90</td>\n",
       "      <td>0.001147</td>\n",
       "      <td>0.001147</td>\n",
       "      <td>0.003442</td>\n",
       "      <td>0.034419</td>\n",
       "    </tr>\n",
       "    <tr>\n",
       "      <th>2</th>\n",
       "      <td>20168</td>\n",
       "      <td>307533</td>\n",
       "      <td>1716</td>\n",
       "      <td>4139</td>\n",
       "      <td>1</td>\n",
       "      <td>135</td>\n",
       "      <td>250</td>\n",
       "      <td>90</td>\n",
       "      <td>0.000386</td>\n",
       "      <td>0.000386</td>\n",
       "      <td>0.001157</td>\n",
       "      <td>0.011569</td>\n",
       "    </tr>\n",
       "    <tr>\n",
       "      <th>3</th>\n",
       "      <td>28207</td>\n",
       "      <td>299494</td>\n",
       "      <td>6826</td>\n",
       "      <td>6419</td>\n",
       "      <td>2</td>\n",
       "      <td>67</td>\n",
       "      <td>250</td>\n",
       "      <td>90</td>\n",
       "      <td>0.000843</td>\n",
       "      <td>0.000843</td>\n",
       "      <td>0.002528</td>\n",
       "      <td>0.025278</td>\n",
       "    </tr>\n",
       "    <tr>\n",
       "      <th>4</th>\n",
       "      <td>20090</td>\n",
       "      <td>307375</td>\n",
       "      <td>1594</td>\n",
       "      <td>4469</td>\n",
       "      <td>1</td>\n",
       "      <td>135</td>\n",
       "      <td>250</td>\n",
       "      <td>90</td>\n",
       "      <td>0.000400</td>\n",
       "      <td>0.000400</td>\n",
       "      <td>0.001201</td>\n",
       "      <td>0.012009</td>\n",
       "    </tr>\n",
       "  </tbody>\n",
       "</table>\n",
       "</div>"
      ],
      "text/plain": [
       "     cpu     lpm  transmit  listen  hops    d   _R  _Nb        P0         I  \\\n",
       "0  60713  922264      7812    8642     1  135  250   90  0.001064  0.001064   \n",
       "1  65511  917467      9785    8114     2   67  250   90  0.001147  0.001147   \n",
       "2  20168  307533      1716    4139     1  135  250   90  0.000386  0.000386   \n",
       "3  28207  299494      6826    6419     2   67  250   90  0.000843  0.000843   \n",
       "4  20090  307375      1594    4469     1  135  250   90  0.000400  0.000400   \n",
       "\n",
       "          P     Eihop  \n",
       "0  0.003193  0.031928  \n",
       "1  0.003442  0.034419  \n",
       "2  0.001157  0.011569  \n",
       "3  0.002528  0.025278  \n",
       "4  0.001201  0.012009  "
      ]
     },
     "execution_count": 23,
     "metadata": {},
     "output_type": "execute_result"
    }
   ],
   "source": [
    "csma_df_concat.head()"
   ]
  },
  {
   "cell_type": "code",
   "execution_count": null,
   "metadata": {},
   "outputs": [],
   "source": [
    "# For 95% confidence interval\n",
    "z = 2.228"
   ]
  },
  {
   "cell_type": "code",
   "execution_count": null,
   "metadata": {},
   "outputs": [],
   "source": [
    "def plot_error_bar(mean, margin_of_error, title, x_label, y_label):\n",
    "  plt.errorbar(0, mean, yerr=margin_of_error, fmt='o', color='black', ecolor='lightgray', elinewidth=3, capsize=0)\n",
    "  plt.title(title)\n",
    "  plt.xlabel(x_label)\n",
    "  plt.ylabel(y_label)\n",
    "  plt.show()"
   ]
  },
  {
   "cell_type": "code",
   "execution_count": null,
   "metadata": {},
   "outputs": [],
   "source": [
    "def calculate_mean_and_margin_of_error(data):\n",
    "  mean = data.mean()\n",
    "  std = data.std()\n",
    "  margin_of_error = z * (std / np.sqrt(n))\n",
    "  return mean, margin_of_error"
   ]
  }
 ],
 "metadata": {
  "kernelspec": {
   "display_name": "Python 3",
   "language": "python",
   "name": "python3"
  },
  "language_info": {
   "codemirror_mode": {
    "name": "ipython",
    "version": 3
   },
   "file_extension": ".py",
   "mimetype": "text/x-python",
   "name": "python",
   "nbconvert_exporter": "python",
   "pygments_lexer": "ipython3",
   "version": "3.10.12"
  }
 },
 "nbformat": 4,
 "nbformat_minor": 2
}
