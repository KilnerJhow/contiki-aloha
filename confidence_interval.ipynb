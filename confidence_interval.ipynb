{
 "cells": [
  {
   "cell_type": "code",
   "execution_count": 1,
   "metadata": {},
   "outputs": [],
   "source": [
    "import pandas as pd\n",
    "import matplotlib.pyplot as plt\n",
    "import numpy as np\n",
    "import scipy.stats as stats"
   ]
  },
  {
   "cell_type": "code",
   "execution_count": 2,
   "metadata": {},
   "outputs": [],
   "source": [
    "log_1_df = pd.read_csv('csv/log_1-5-duty-cycle.csv')\n",
    "log_2_df = pd.read_csv('csv/log_2-5-duty-cycle.csv')\n",
    "log_3_df = pd.read_csv('csv/log_3-5-duty-cycle.csv')\n",
    "log_4_df = pd.read_csv('csv/log_4-5-duty-cycle.csv')\n",
    "log_5_df = pd.read_csv('csv/log_5-5-duty-cycle.csv')\n",
    "log_6_df = pd.read_csv('csv/log_6-5-duty-cycle.csv')\n",
    "log_7_df = pd.read_csv('csv/log_7-5-duty-cycle.csv')\n",
    "log_8_df = pd.read_csv('csv/log_8-5-duty-cycle.csv')\n",
    "log_9_df = pd.read_csv('csv/log_9-5-duty-cycle.csv')\n",
    "log_10_df = pd.read_csv('csv/log_10-5-duty-cycle.csv')\n",
    "log_11_df = pd.read_csv('csv/log_11-5-duty-cycle.csv')"
   ]
  },
  {
   "cell_type": "code",
   "execution_count": 3,
   "metadata": {},
   "outputs": [],
   "source": [
    "combined_df = pd.concat([log_1_df, log_2_df, log_3_df, log_4_df, log_5_df, log_6_df, log_7_df, log_8_df, log_9_df, log_10_df, log_11_df])\n",
    "\n",
    "#remove time column\n",
    "combined_df = combined_df.drop(columns=['time'])"
   ]
  },
  {
   "cell_type": "code",
   "execution_count": 4,
   "metadata": {},
   "outputs": [
    {
     "data": {
      "text/html": [
       "<div>\n",
       "<style scoped>\n",
       "    .dataframe tbody tr th:only-of-type {\n",
       "        vertical-align: middle;\n",
       "    }\n",
       "\n",
       "    .dataframe tbody tr th {\n",
       "        vertical-align: top;\n",
       "    }\n",
       "\n",
       "    .dataframe thead th {\n",
       "        text-align: right;\n",
       "    }\n",
       "</style>\n",
       "<table border=\"1\" class=\"dataframe\">\n",
       "  <thead>\n",
       "    <tr style=\"text-align: right;\">\n",
       "      <th></th>\n",
       "      <th>_Eihop</th>\n",
       "      <th>_P0</th>\n",
       "      <th>hops</th>\n",
       "      <th>d</th>\n",
       "      <th>_R</th>\n",
       "      <th>_Nb</th>\n",
       "    </tr>\n",
       "  </thead>\n",
       "  <tbody>\n",
       "    <tr>\n",
       "      <th>0</th>\n",
       "      <td>0.18</td>\n",
       "      <td>0.07</td>\n",
       "      <td>1</td>\n",
       "      <td>135</td>\n",
       "      <td>250</td>\n",
       "      <td>90</td>\n",
       "    </tr>\n",
       "    <tr>\n",
       "      <th>1</th>\n",
       "      <td>0.14</td>\n",
       "      <td>0.07</td>\n",
       "      <td>1</td>\n",
       "      <td>135</td>\n",
       "      <td>250</td>\n",
       "      <td>90</td>\n",
       "    </tr>\n",
       "    <tr>\n",
       "      <th>2</th>\n",
       "      <td>0.28</td>\n",
       "      <td>0.10</td>\n",
       "      <td>1</td>\n",
       "      <td>135</td>\n",
       "      <td>250</td>\n",
       "      <td>90</td>\n",
       "    </tr>\n",
       "    <tr>\n",
       "      <th>3</th>\n",
       "      <td>0.54</td>\n",
       "      <td>0.14</td>\n",
       "      <td>1</td>\n",
       "      <td>135</td>\n",
       "      <td>250</td>\n",
       "      <td>90</td>\n",
       "    </tr>\n",
       "    <tr>\n",
       "      <th>4</th>\n",
       "      <td>0.32</td>\n",
       "      <td>0.10</td>\n",
       "      <td>1</td>\n",
       "      <td>135</td>\n",
       "      <td>250</td>\n",
       "      <td>90</td>\n",
       "    </tr>\n",
       "  </tbody>\n",
       "</table>\n",
       "</div>"
      ],
      "text/plain": [
       "   _Eihop   _P0  hops    d   _R  _Nb\n",
       "0    0.18  0.07     1  135  250   90\n",
       "1    0.14  0.07     1  135  250   90\n",
       "2    0.28  0.10     1  135  250   90\n",
       "3    0.54  0.14     1  135  250   90\n",
       "4    0.32  0.10     1  135  250   90"
      ]
     },
     "execution_count": 4,
     "metadata": {},
     "output_type": "execute_result"
    }
   ],
   "source": [
    "combined_df.head()"
   ]
  },
  {
   "cell_type": "code",
   "execution_count": 9,
   "metadata": {},
   "outputs": [
    {
     "name": "stdout",
     "output_type": "stream",
     "text": [
      "Mean:  0.39702167954149015\n",
      "Standard Deviation:  0.27371618718134794\n"
     ]
    }
   ],
   "source": [
    "mean = combined_df['_Eihop'].mean()\n",
    "std = combined_df['_Eihop'].std()\n",
    "\n",
    "print('Mean: ', mean)\n",
    "print('Standard Deviation: ', std)"
   ]
  },
  {
   "cell_type": "code",
   "execution_count": 10,
   "metadata": {},
   "outputs": [],
   "source": [
    "# For 95% confidence interval\n",
    "z = 2.228\n",
    "n = len(combined_df)"
   ]
  },
  {
   "cell_type": "code",
   "execution_count": 11,
   "metadata": {},
   "outputs": [],
   "source": [
    "margin_of_error = z * (std / np.sqrt(n))"
   ]
  },
  {
   "cell_type": "code",
   "execution_count": 12,
   "metadata": {},
   "outputs": [
    {
     "name": "stdout",
     "output_type": "stream",
     "text": [
      "Margin of Error:  0.009626780915961747\n"
     ]
    }
   ],
   "source": [
    "print('Margin of Error: ', margin_of_error)"
   ]
  },
  {
   "cell_type": "code",
   "execution_count": 13,
   "metadata": {},
   "outputs": [
    {
     "name": "stdout",
     "output_type": "stream",
     "text": [
      "X percent confidence interval:  0.3873948986255284 0.4066484604574519\n"
     ]
    }
   ],
   "source": [
    "print(\"X percent confidence interval: \", mean - margin_of_error, mean + margin_of_error)"
   ]
  },
  {
   "cell_type": "code",
   "execution_count": 14,
   "metadata": {},
   "outputs": [
    {
     "data": {
      "image/png": "[encoded data removed]",
      "text/plain": [
       "<Figure size 640x480 with 1 Axes>"
      ]
     },
     "metadata": {},
     "output_type": "display_data"
    }
   ],
   "source": [
    "# Plot the error bar\n",
    "\n",
    "plt.errorbar(1, mean, yerr=margin_of_error, fmt='o')\n",
    "plt.show()"
   ]
  }
 ],
 "metadata": {
  "kernelspec": {
   "display_name": "Python 3",
   "language": "python",
   "name": "python3"
  },
  "language_info": {
   "codemirror_mode": {
    "name": "ipython",
    "version": 3
   },
   "file_extension": ".py",
   "mimetype": "text/x-python",
   "name": "python",
   "nbconvert_exporter": "python",
   "pygments_lexer": "ipython3",
   "version": "3.10.12"
  }
 },
 "nbformat": 4,
 "nbformat_minor": 2
}
